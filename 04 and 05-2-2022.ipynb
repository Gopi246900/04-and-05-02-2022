{
 "cells": [
  {
   "cell_type": "markdown",
   "id": "3d699aa1",
   "metadata": {},
   "source": [
    "### mobile validations\n",
    "- 10 digits\n",
    "- starts with indian num +91\n",
    "- start with 9,8,7,6\n",
    "### gmail validations\n",
    "- lenght- user mentioned\n",
    "- adding caps letters and small letters with special characters and digits\n",
    "- @gmail.com,@yahoo.com,@vasavi.ac.in\n"
   ]
  },
  {
   "cell_type": "markdown",
   "id": "bcb4fdb5",
   "metadata": {},
   "source": [
    "- patterna::\n",
    "    - ^    - start\n",
    "    - $    - end\n",
    "    - [0-9]->numbers\n",
    "    -[a-z]->small alphabets\n",
    "    - [A-Z]->caps alphabets\n",
    "    -[a-zA-Z]->both caps and small characters\n",
    "    -[@] -> special character\n",
    "    -[0-9]{4}-> for mention\n",
    "    - [0-9]{4}-> we have to give 4 numbers\n",
    "    - [0-9]{6}-> we have to give 6 numbers"
   ]
  },
  {
   "cell_type": "code",
   "execution_count": null,
   "id": "3338fb4b",
   "metadata": {},
   "outputs": [],
   "source": [
    "# 7330960809\n",
    "# +91 9666468417\n",
    "pattern=^[6-9][0-9]{9}$\n",
    "# +91 73309060809\n",
    "\n",
    "pattern=^[+][9][1][6-9][0-9]{9}$"
   ]
  },
  {
   "cell_type": "code",
   "execution_count": 6,
   "id": "a508aa4b",
   "metadata": {},
   "outputs": [
    {
     "name": "stdout",
     "output_type": "stream",
     "text": [
      "enter phone number7330960809\n",
      "invalid phone number\n"
     ]
    }
   ],
   "source": [
    "import re\n",
    "phone_no=input(\"enter phone number\")\n",
    "pattern=\"^[6-9][0-9]{9}^[+][9][1][6-9][0-9]{9}$\"\n",
    "if re.match(pattern,phone_no):\n",
    "    print(\"valid phone number\")\n",
    "else:\n",
    "    print(\"invalid phone number\")"
   ]
  },
  {
   "cell_type": "code",
   "execution_count": 7,
   "id": "62da6a12",
   "metadata": {},
   "outputs": [
    {
     "name": "stdout",
     "output_type": "stream",
     "text": [
      "enter phone number9666468417\n",
      "invalid phone number\n"
     ]
    }
   ],
   "source": [
    "import re\n",
    "phone_no=input(\"enter phone number\")\n",
    "pattern=\"^[6-9][0-9]{9}^[+][9][1][6-9][0-9]{9}$\"\n",
    "if re.match(pattern,phone_no):\n",
    "    print(\"valid phone number\")\n",
    "else:\n",
    "    print(\"invalid phone number\")"
   ]
  },
  {
   "cell_type": "code",
   "execution_count": 9,
   "id": "4eda0b48",
   "metadata": {},
   "outputs": [
    {
     "name": "stdout",
     "output_type": "stream",
     "text": [
      "enter email idGopithorlikonda\n",
      "valid email id\n"
     ]
    }
   ],
   "source": []
  },
  {
   "cell_type": "markdown",
   "id": "92a7c716",
   "metadata": {},
   "source": [
    "### Email validation\n",
    "- 1.username@domain\n",
    "   - username specifications\n",
    "      a-zA-Z-9\n",
    "      special symbol:[]\n",
    "        lenght-6 to 20 characters\n",
    "- 2.domain\n",
    "   - a-z lenght- 5 to 10 characters\n",
    "   - A-Z lenght- 2 to 5 ----in.,.org"
   ]
  },
  {
   "cell_type": "code",
   "execution_count": null,
   "id": "a4b918e1",
   "metadata": {},
   "outputs": [],
   "source": [
    "# vasavicollage99@.com\n",
    "pattern="
   ]
  },
  {
   "cell_type": "code",
   "execution_count": 12,
   "id": "e5fbdae7",
   "metadata": {},
   "outputs": [
    {
     "name": "stdout",
     "output_type": "stream",
     "text": [
      "enter email idGopithorlikonda@email.com\n",
      "valid email id\n"
     ]
    }
   ],
   "source": [
    "import re\n",
    "email=input(\"enter email id\")\n",
    "pattern=\"[Gopithorlikonda@email.com]\"\n",
    "if re.match(pattern,email):\n",
    "    print(\"valid email id\")\n",
    "else:\n",
    "    print(\"invalid email id\")"
   ]
  },
  {
   "cell_type": "code",
   "execution_count": 11,
   "id": "9c674718",
   "metadata": {},
   "outputs": [
    {
     "name": "stdout",
     "output_type": "stream",
     "text": [
      "enter email id18030cm302@email.com\n",
      "invalid email id\n"
     ]
    }
   ],
   "source": [
    "import re\n",
    "email=input(\"enter email id\")\n",
    "pattern=\"[Gopithorlikonda@email.com]\"\n",
    "if re.match(pattern,email):\n",
    "    print(\"valid email id\")\n",
    "else:\n",
    "    print(\"invalid email id\")"
   ]
  },
  {
   "cell_type": "code",
   "execution_count": 17,
   "id": "d7dbacf4",
   "metadata": {},
   "outputs": [
    {
     "name": "stdout",
     "output_type": "stream",
     "text": [
      "enter email:Gopithorlikonda@gmail.com\n",
      "invalid email\n"
     ]
    }
   ],
   "source": [
    "import re\n",
    "email=input(\"enter email:\")\n",
    "pattern=\"^[a-z][{6}[9][9][@][a-z]{5}[.][a-z]{3}$\"\n",
    "if re.match(pattern,email):\n",
    "    print(\"valid email\")\n",
    "else:\n",
    "    print(\"invalid email\")"
   ]
  },
  {
   "cell_type": "code",
   "execution_count": 18,
   "id": "1110741d",
   "metadata": {},
   "outputs": [
    {
     "name": "stdout",
     "output_type": "stream",
     "text": [
      "enter email:Gopithorlikonda@email.com\n",
      "invalid email\n"
     ]
    }
   ],
   "source": [
    "import re\n",
    "email=input(\"enter email:\")\n",
    "pattern=\"^[a-z][{6}[9][9][@][a-z]{5}[.][a-z]{3}$\"\n",
    "if re.match(pattern,email):\n",
    "    print(\"valid email\")\n",
    "else:\n",
    "    print(\"invalid email\")"
   ]
  },
  {
   "cell_type": "code",
   "execution_count": null,
   "id": "d449ba0b",
   "metadata": {},
   "outputs": [],
   "source": []
  }
 ],
 "metadata": {
  "kernelspec": {
   "display_name": "Python 3 (ipykernel)",
   "language": "python",
   "name": "python3"
  },
  "language_info": {
   "codemirror_mode": {
    "name": "ipython",
    "version": 3
   },
   "file_extension": ".py",
   "mimetype": "text/x-python",
   "name": "python",
   "nbconvert_exporter": "python",
   "pygments_lexer": "ipython3",
   "version": "3.9.7"
  }
 },
 "nbformat": 4,
 "nbformat_minor": 5
}
